{
 "cells": [
  {
   "cell_type": "markdown",
   "metadata": {
    "colab_type": "text",
    "id": "Gbgp0NXdc137"
   },
   "source": [
    "# Project 1: Web scraping and basic summarization\n",
    "*University of Ljubljana, Faculty for computer and information science* <br />\n",
    "*Course: Introduction to data science*"
   ]
  },
  {
   "cell_type": "markdown",
   "metadata": {
    "colab_type": "text",
    "id": "UkYxh9TVc13-"
   },
   "source": [
    "In this Project you need to implement missing parts of this Jupyter notebook. All the code in the notebook must be reproducible and runnable, so include instructions for the environment setup or other specifics needed to run the notebook. The overview of the repository and setup should be put to README.md\n",
    "\n",
    "The idea of this Project is to automatically retrieve structured data from pages [rtvslo.si](https://www.rtvslo.si) or [24ur.com](https://www.24ur.com). "
   ]
  },
  {
   "cell_type": "markdown",
   "metadata": {
    "colab_type": "text",
    "id": "vmDFHSpSc14M"
   },
   "source": [
    "## Environment setup"
   ]
  },
  {
   "cell_type": "markdown",
   "metadata": {
    "colab_type": "text",
    "id": "U6cCtBRGc14R"
   },
   "source": [
    "Write instructions how to setup the environment to run this notebook, which libraries are installed, etc. Also provide installation sources.\n",
    "\n",
    "`TODO: environment setup description`"
   ]
  },
  {
   "cell_type": "code",
   "execution_count": 3,
   "metadata": {
    "colab": {},
    "colab_type": "code",
    "id": "X3ooqpJOc14V"
   },
   "outputs": [],
   "source": [
    "# Load all the libraries needed for running the code chunks below\n",
    "\n",
    "from selenium import webdriver\n",
    "from selenium.webdriver.common.keys import Keys\n",
    "import time\n",
    "import pandas as pd\n",
    "import os\n",
    "from selenium.webdriver.common.by import By\n",
    "\n"
   ]
  },
  {
   "cell_type": "code",
   "execution_count": 4,
   "metadata": {},
   "outputs": [
    {
     "name": "stdout",
     "output_type": "stream",
     "text": [
      "Starting to get articles URLs from page:  RTVSLO.si - Najboljši splet vsebin\n",
      "I'm on page: 1\n",
      "1 https://www.rtvslo.si/zdravje/novi-koronavirus\n",
      "2 https://www.rtvslo.si/slovenija/skupaj-naprej-v-premagovanje-epidemije/600811\n",
      "3 https://www.rtvslo.si/slovenija/jansa-zavrnil-ocitke-da-vlada-ne-uposteva-stroke-morda-predlogov-ne-sprejme-isti-teden/600821\n",
      "4 https://www.rtvslo.si/zdravje/novi-koronavirus/skupaj-naprej-z-verodostojnimi-informacijami-do-ustreznega-ravnanja-in-zmage-nad-epidemijo/600570\n",
      "5 https://www.rtvslo.si/zdravje/novi-koronavirus/zaracunavanje-dodatnih-stroskov-ob-hitrem-testiranju-je-nezakonito/600686\n",
      "6 https://www.rtvslo.si/zdravje/novi-koronavirus/po-evropi-rekordno-stevilo-okuzb-z-novim-koronavirusom/600593\n",
      "7 https://www.rtvslo.si/zdravje/novi-koronavirus/poklukar-izvajajmo-ukrepe-in-ce-bomo-uspesni-zaprtja-druzbe-ne-bo/600574\n",
      "8 https://www.rtvslo.si/slovenija/preberite-tudi/univerza-v-ljubljani-o-druzbenih-izzivih-v-postpandemicnem-casu/600555\n",
      "9 https://www.rtvslo.si/radio-koper/prispevki/novice/zakaj-so-hodniki-v-zdravstvenih-domovih-prazni-in-kje-so-zdravniki/600526\n",
      "10 https://www.rtvslo.si/zdravje/novi-koronavirus/v-franciji-za-pogoj-pct-za-starejse-od-65-let-obvezen-pozivitveni-odmerek-cepiva/600434\n",
      "11 https://www.rtvslo.si/zdravje/novi-koronavirus/monika-azman-zdravstveni-delavci-so-na-robu-moci-v-nedogled-ne-bodo-zdrzali/600421\n",
      "I'm on page: 2\n",
      "12 https://www.rtvslo.si/zdravje/novi-koronavirus/pecan-o-okuzbah-v-solah-zadeva-je-eskalirala-do-komajda-se-obvladljivih-razseznosti/600390\n",
      "13 https://www.rtvslo.si/kultura/drugo/javne-kulturne-prireditve-ostajajo-na-sporedu-a-le-v-dvoranah-s-fiksnimi-sedisci/600385\n",
      "14 https://www.rtvslo.si/radio-maribor/novice/srednja-zdravstvena-sola-in-fakulteta-za-zdravstvene-vede-odzvali-se-bomo-klicu-na-pomoc/600346\n",
      "15 https://www.rtvslo.si/enostavno/slovenija/v-sloveniji-od-8-novembra-veljajo-bolj-strogi-ukrepi/600328\n",
      "16 https://www.rtvslo.si/slovenija/hojs-protesti-dopustni-ce-so-ustrezno-prijavljeni-in-se-ve-kdo-je-organizator/600286\n",
      "17 https://www.rtvslo.si/zdravje/novi-koronavirus/avstrija-uvaja-pravilo-pc-in-se-boji-upada-turistov/600284\n",
      "18 https://www.rtvslo.si/slovenija/pecan-o-obveznem-samotestiranju-znova-so-nas-potisnili-v-prvo-bojno-linijo/600254\n",
      "19 https://www.rtvslo.si/skit/scena/ed-sheeran-po-koncu-karantene-predstavlja-album-ki-je-ze-stevilka-ena-na-otoku/600247\n",
      "20 https://www.rtvslo.si/zdravje/novi-koronavirus/na-bavarskem-strozji-ukrepi-v-srbiji-dnevni-rekord-smrtnih-zrtev/600234\n",
      "21 https://www.rtvslo.si/zdravje/novi-koronavirus/v-trstu-aretiranih-najmanj-10-nasprotnikov-covidnega-potrdila/600227\n",
      "I'm on page: 3\n",
      "22 https://www.rtvslo.si/zdravje/novi-koronavirus/na-voljo-le-se-30-navadnih-bolniskih-postelj-in-15-postelj-na-intenzivni-terapiji/600222\n",
      "23 https://www.rtvslo.si/svet/s-in-j-amerika/prizivno-sodisce-zadrzalo-bidnov-nacrt-za-obvezno-cepljenje-v-podjetjih/600213\n",
      "24 https://www.rtvslo.si/radio-maribor/novice/novi-ukrepi-blagi-vendar-predstavljajo-precej-izzivov/600167\n",
      "25 https://www.rtvslo.si/zdravje/novi-koronavirus/v-avstriji-in-na-hrvaskem-rekordno-stevilo-novih-okuzb-v-trstu-protest/600156\n",
      "26 https://www.rtvslo.si/gospodarstvo/trgovci-boljse-od-zapiranja-gospodarstva-gostinci-pogresamo-kritje-skode/600141\n",
      "27 https://www.rtvslo.si/zdravje/novi-koronavirus/od-15-novembra-bo-samotestiranje-v-solah-obvezno/600135\n",
      "28 https://www.rtvslo.si/zdravje/novi-koronavirus/v-kostariki-bo-kot-prvi-drzavi-na-svetu-cepljenje-proti-covidu-19-obvezno-za-otroke/600130\n",
      "29 https://www.rtvslo.si/zdravje/novi-koronavirus/nove-maksimalne-kapacitete-300-intenzivnih-in-1200-postelj-na-navadnih-covidnih-oddelkih/600095\n",
      "30 https://www.rtvslo.si/slovenija/raziskava-valicona-podpora-pogoju-pct-narasca/600073\n",
      "31 https://www.rtvslo.si/zdravje/novi-koronavirus/avstrija-bo-od-ponedeljka-v-bare-restavracije-in-k-frizerju-dovolila-le-cepljenim-in-prebolelim/600016\n",
      "I'm on page: 4\n",
      "32 https://www.rtvslo.si/zdravje/novi-koronavirus/v-cetrtek-potrjenih-3771-okuzb-dolge-vrste-za-cepljenje/600001\n",
      "33 https://www.rtvslo.si/kultura/oder/uros-fuerst-siriti-pozitiven-pogled-na-zivljenje-se-mi-zdi-v-teh-okoliscinah-se-toliko-pomembneje/599968\n",
      "34 https://www.rtvslo.si/zdravje/novi-koronavirus/velika-britanija-prva-odobrila-protivirusno-zdravilo-to-je-zgodovinski-dan/599960\n",
      "35 https://www.rtvslo.si/kultura/vizualna-umetnost/cim-prej-korono-v-muzej-mi-vsi-smo-potencialni-pricevalci-zgodovine/599942\n",
      "36 https://www.rtvslo.si/zdravje/novi-koronavirus/dunaj-v-lokale-le-cepljeni-in-preboleli-srbija-podaljsala-pocitnice/599889\n",
      "37 https://www.rtvslo.si/zdravje/novi-koronavirus/v-sredo-potrjenih-rekordnih-4511-okuzb-umrlo-devet-bolnikov/599856\n",
      "38 https://www.rtvslo.si/zabava-in-slog/ture-avanture/na-ulice-strasbourga-se-vraca-bozicno-vzdusje/599812\n",
      "39 https://www.rtvslo.si/izjava-dneva/bojana-beovic/599785\n",
      "40 https://www.rtvslo.si/zdravje/novi-koronavirus/v-avstriji-in-na-hrvaskem-potrdili-najvec-dnevnih-okuzb-letos/599761\n",
      "41 https://www.rtvslo.si/zdravje/novi-koronavirus/nekateri-staroselci-v-peruju-so-sele-zdaj-izvedeli-za-covid-19/599749\n",
      "I'm on page: 5\n",
      "42 https://www.rtvslo.si/svet/evropa/iz-rima-izgnali-vodjo-protestov-proti-covidnemu-potrdilu-v-trstu/599735\n",
      "43 https://www.rtvslo.si/zdravje/novi-koronavirus/v-soli-na-kitajskem-vec-ur-zadrzevali-otroke-zaradi-okuzbe-zaposlenega/599725\n",
      "44 https://www.rtvslo.si/zdravje/novi-koronavirus/potrdili-rekordno-stevilo-okuzb-umrlo-18-bolnikov-v-ljubljani-dolge-vrste-za-pcr-testiranje/599708\n",
      "45 https://www.rtvslo.si/zdravje/novi-koronavirus/zakaj-se-nekateri-cepljeni-okuzijo/599663\n",
      "46 https://www.rtvslo.si/zabava-in-slog/popkultura/druzabno/v-mariboru-zaradi-slabih-epidemicnih-razmer-odpovedali-martinovanje/599658\n",
      "47 https://www.rtvslo.si/zdravje/novi-koronavirus/avstrija-zaradi-narascanja-stevila-covidnih-bolnikov-uvaja-strozje-ukrepe/599646\n",
      "48 https://www.rtvslo.si/dostopno/napovedi/novinarska-konferenca-s-tolmacem-2-novembra-predvidoma-ob-13-30-na-tv-slo-2/599609\n",
      "49 https://www.rtvslo.si/zdravje/novi-koronavirus/raziskava-stopnja-protiteles-visja-pri-ljudeh-ki-so-bili-okuzeni-in-nato-cepljeni/599595\n",
      "50 https://www.rtvslo.si/slovenija/logar-vladi-smo-predlagali-zaostritev-ukrepov-ne-pa-zaprtja-drzave/599573\n",
      "51 https://www.rtvslo.si/sport/nogomet/liga-prvakov-v-nogometu/gasperini-solskjaer-bo-pocasi-sestavil-mozaik-in-lahko-pripelje-united-nazaj-na-vrh/599559\n",
      "I'm on page: 6\n",
      "52 https://www.rtvslo.si/zdravje/novi-koronavirus/v-trstu-do-konca-leta-prepovedani-shodi-na-osrednjem-trgu/599514\n",
      "53 https://www.rtvslo.si/zdravje/novi-koronavirus/tajska-odprla-meje-za-tuje-turiste-avstralija-po-letu-in-pol-dovolila-vstop-drzavljanom/599490\n",
      "54 https://www.rtvslo.si/slovenija/z-danasnjim-dnem-veljajo-zaostreni-ukrepi-za-zajezitev-okuzb/599485\n",
      "55 https://www.rtvslo.si/zdravje/novi-koronavirus/v-soboto-pozitivnih-rekordnih-42-odstotkov-izvidov-testov-umrlo-sest-bolnikov/599422\n",
      "56 https://www.rtvslo.si/mmcdebata/koliko-nas-loci-od-policijske-ure-in-zaprtja-obcin/599265\n",
      "57 https://www.rtvslo.si/zdravje/novi-koronavirus/potrjenih-2510-okuzb-pred-prazniki-pozivi-naj-se-izogibamo-druzenjem/599212\n",
      "58 https://www.rtvslo.si/gospodarstvo/bi-lahko-pomanjkanje-kadrov-ublazili-studenti/599176\n",
      "59 https://www.rtvslo.si/zdravje/novi-koronavirus/na-norveskem-in-danskem-stevilo-okuzb-narasca-v-bolnisnicah-malo-ljudi/599138\n",
      "60 https://www.rtvslo.si/zdravje/novi-koronavirus/avstralija-se-po-letu-in-pol-pripravlja-na-odprtje-meja-kitajska-zaradi-okuzb-zaprla-tri-mesta/599092\n",
      "61 https://www.rtvslo.si/slovenija/precepljenost-in-preventiva-v-domovih-za-starejse-zavirata-narascanje-okuzb/598962\n",
      "I'm on page: 7\n",
      "62 https://www.rtvslo.si/zdravje/novi-koronavirus/poklukar-ce-bo-zasedenih-od-160-do-180-intenzivnih-postelj-bom-vladi-predlagal-vsaj-delno-zaprtje/598969\n",
      "63 https://www.rtvslo.si/zdravje/novi-koronavirus/nadzora-nad-samoizolacijo-ljudi-ki-so-pozitivni-na-hitrem-testu-ne-izvaja-nihce/598859\n",
      "64 https://www.rtvslo.si/zdravje/novi-koronavirus/ko-bomo-imeli-90-odstotkov-populacije-imune-se-bo-epidemija-ustavila/598843\n",
      "65 https://www.rtvslo.si/svet/rusija-z-rekordnim-stevilom-okuzb-od-zacetka-pandemije-kitajci-prelozili-maraton-v-pekingu/598723\n",
      "66 https://www.rtvslo.si/zdravje/novi-koronavirus/v-nedeljo-potrjenih-707-okuzb-umrlo-11-bolnikov-s-covidom-19/598708\n",
      "67 https://www.rtvslo.si/zdravje/novi-koronavirus/v-vzhodni-evropi-stevilo-okuzb-preseglo-20-milijonov-melbourne-iz-neskoncnega-zaprtja/598679\n",
      "68 https://www.rtvslo.si/zdravje/novi-koronavirus/opravljenih-4458-pcr-testov-potrjenih-1497-okuzb/598628\n",
      "69 https://www.rtvslo.si/izjava-dneva/leon-cizelj/598612\n",
      "70 https://www.rtvslo.si/sport/nogomet/nemsko-nogometno-prvenstvo/bayern-s-toppmoellerjem-na-klopi-se-drugic-ta-teden-do-zmage-s-4-0/598593\n",
      "71 https://www.rtvslo.si/slovenija/preberite-tudi/zorcic-na-konferenci-predsednikov-parlamentov-se-o-pomenu-multilateralizma/598428\n",
      "I'm on page: 8\n",
      "72 https://www.rtvslo.si/zdravje/novi-koronavirus/krek-pomembno-je-da-pogoj-pct-v-resnici-upostevamo-zloraba-tega-pogoja-je-zavrzno-dejanje/598401\n",
      "73 https://www.rtvslo.si/zdravje/novi-koronavirus/slovenija-bo-ze-naroceno-cepivo-janssen-darovala-prek-pobude-covax/598385\n",
      "74 https://www.rtvslo.si/zdravje/novi-koronavirus/who-s-covidom-19-umrlo-od-80-000-do-180-000-zdravstvenih-delavcev/598368\n",
      "75 https://www.rtvslo.si/sport/nogomet/nemsko-nogometno-prvenstvo/nagelsmann-pozitiven-na-koronavirus-naslednje-tekme-bo-vodil-pomocnik-toppmoeller/598358\n",
      "76 https://www.rtvslo.si/zdravje/novi-koronavirus/latvija-se-zapira-na-otoku-vse-ostaja-odprto-ceska-v-strozje-preverjanje-pct-ja/598316\n",
      "77 https://www.rtvslo.si/zdravje/novi-koronavirus/lejko-zupanc-starost-ljudi-ki-potrebujejo-najbolj-invazivno-podporo-se-znizuje/598252\n",
      "78 https://www.rtvslo.si/zdravje/novi-koronavirus/na-poljskem-eksplozija-pandemije/598182\n",
      "79 https://www.rtvslo.si/zdravje/novi-koronavirus/krek-epidemije-se-ni-konec-morda-prihaja-nova-razlicica/598146\n",
      "80 https://www.rtvslo.si/svet/preberite-tudi/v-trstu-se-nadaljujejo-protesti-proti-covidnemu-potrdilu/598052\n",
      "81 https://www.rtvslo.si/svet/preberite-tudi/amnesty-international-opozarja-na-napade-na-svobodo-izrazanja-v-pandemiji/598022\n",
      "I'm on page: 9\n",
      "82 https://www.rtvslo.si/zdravje/novi-koronavirus/v-ponedeljek-1669-okuzb-skoraj-tretjina-testov-pozitivnih/598006\n",
      "83 https://www.rtvslo.si/sport/tenis/dokovic-dvomi-o-nastopu-v-melbournu-kjer-naj-bi-zahtevali-cepljenost/598011\n",
      "84 https://www.rtvslo.si/svet/evropa/v-trstu-policija-protestnike-proti-covidnemu-potrdilu-razgnala-s-solzivcem-in-vodnim-topom/597904\n",
      "85 https://www.rtvslo.si/zdravje/novi-koronavirus/logar-visok-odstotek-pozitivnih-testov-pomeni-da-je-v-populaciji-prisotnega-veliko-virusa/597886\n",
      "86 https://www.rtvslo.si/zdravje/novi-koronavirus/ce-se-bodo-razmere-se-precej-poslabsale-krek-ne-izkljucuje-nuje-po-dodatnih-ukrepih/597794\n",
      "87 https://www.rtvslo.si/zdravje/novi-koronavirus/v-petek-potrdili-1437-okuzb-z-novim-koronavirusom-pozitivnih-vec-kot-cetrtina-izvidov-testov/597714\n",
      "88 https://www.rtvslo.si/zdravje/novi-koronavirus/v-zda-priporocilo-za-pozivitveni-odmerek-cepiva-podjetja-johnson-johnson/597713\n",
      "89 https://www.rtvslo.si/slovenija/zohar-cretnik-nlzoh-je-pri-verifikaciji-hitrih-testov-majbert-pharma-svoje-delo-opravil-dobro/597694\n",
      "90 https://www.rtvslo.si/zdravje/novi-koronavirus/od-8-novembra-bodo-v-zda-lahko-vstopili-vsi-cepljeni-tujci/597673\n",
      "91 https://www.rtvslo.si/zdravje/novi-koronavirus/cepljenim-po-visokotveganem-stiku-ne-bo-treba-v-karanteno-ne-glede-na-to-kdaj-so-bili-cepljeni/597554\n"
     ]
    }
   ],
   "source": [
    "MAIN_URL = \"https://www.rtvslo.si\"\n",
    "search_KEY = \"Koronavirus\"\n",
    "PATH = r\"chromedriver.exe\"\n",
    "n = 100 #max number of articles - some number\n",
    "\n",
    "options = webdriver.ChromeOptions()\n",
    "options.add_argument('window-size=2880,1800')\n",
    "options.add_argument(\"--start-maximized\") #so I can see it in fullscreen on laptop\n",
    "driver = webdriver.Chrome(PATH, options=options)\n",
    "\n",
    "\n",
    "driver.get(MAIN_URL)\n",
    "\n",
    "print(\"Starting to get articles URLs from page: \",driver.title)\n",
    "\n",
    "search = driver.find_element_by_id(\"header-search-input\") #search for key word\n",
    "search.send_keys(search_KEY)\n",
    "search.send_keys(Keys.RETURN)\n",
    "\n",
    "time.sleep(5)\n",
    "\n",
    "i = 1 #page counter\n",
    "j = 1\n",
    "URLS = [] #list of all urls\n",
    "\n",
    "while (len(URLS)< n - 11): #max number of articles\n",
    "    articles = driver.find_elements_by_class_name(\"article-archive-item\")\n",
    "    time.sleep(1)\n",
    "    print(\"I'm on page: {}\".format(i))\n",
    "    i = i + 1\n",
    "    for article in articles:\n",
    "        items = article.find_element_by_css_selector('div a')\n",
    "        print(j, items.get_attribute('href'))\n",
    "        j = j + 1\n",
    "        time.sleep(1)\n",
    "        URLS.append(items.get_attribute('href'))\n",
    "    #print(URLS)   \n",
    "    #print(\"########################\")\n",
    "   \n",
    "    time.sleep(1)  \n",
    "    driver.execute_script(\"window.scrollTo(0, 1800)\") #scroll to bottom of the page\n",
    "    time.sleep(1)\n",
    "    \n",
    "    paginator = driver.find_elements_by_css_selector(\"nav ul li\")\n",
    "    \n",
    "    last_page = paginator[-1]\n",
    "    last_page.click() #click to go to next page\n",
    "    \n",
    "\n",
    "with open('article_urls.txt', 'w') as f: #write URLs to file\n",
    "    for url in URLS:\n",
    "        f.write(\"%s\\n\" % url)\n",
    "    \n",
    "driver.quit()\n",
    "\n",
    "\n",
    "\n",
    "\n"
   ]
  },
  {
   "cell_type": "code",
   "execution_count": 4,
   "metadata": {},
   "outputs": [
    {
     "data": {
      "text/plain": [
       "91"
      ]
     },
     "execution_count": 4,
     "metadata": {},
     "output_type": "execute_result"
    }
   ],
   "source": [
    "len(URLS)"
   ]
  },
  {
   "cell_type": "code",
   "execution_count": 1,
   "metadata": {},
   "outputs": [
    {
     "name": "stdout",
     "output_type": "stream",
     "text": [
      "Selected Jupyter core packages...\n",
      "IPython          : 7.29.0\n",
      "ipykernel        : 6.4.1\n",
      "ipywidgets       : 7.6.5\n",
      "jupyter_client   : 7.0.1\n",
      "jupyter_core     : 4.8.1\n",
      "jupyter_server   : not installed\n",
      "jupyterlab       : not installed\n",
      "nbclient         : 0.5.3\n",
      "nbconvert        : 6.1.0\n",
      "nbformat         : 5.1.3\n",
      "notebook         : 6.4.5\n",
      "qtconsole        : 5.1.1\n",
      "traitlets        : 5.1.0\n"
     ]
    }
   ],
   "source": [
    "!jupyter --version"
   ]
  },
  {
   "cell_type": "markdown",
   "metadata": {
    "colab_type": "text",
    "id": "aIXBDoF1c14Z"
   },
   "source": [
    "## Web scraping"
   ]
  },
  {
   "cell_type": "markdown",
   "metadata": {
    "colab_type": "text",
    "id": "5KbM1Lx0c14a"
   },
   "source": [
    "News portals generally provide a search functionality to search for news of interest. Your goal is to (a) programatically open a news site (rtvslo.si or 24ur.com), (b) enter query term `koronavirus`, (c) iterate through all the results and (d) parse each news article.\n",
    "\n",
    "An example of Web pages from rtvslo.si:\n",
    "\n",
    "<table>\n",
    "    <tr>\n",
    "        <td style=\"text-align: left;\">rtvslo.si search results page</td>\n",
    "        <td style=\"text-align: left;\">rtvslo.si news article page</td>\n",
    "    </tr>\n",
    "    <tr>\n",
    "        <td><img src=\"./rtvslo1.png\" /></td>\n",
    "        <td><img src=\"./rtvslo2.png\" /></td>\n",
    "    </tr>\n",
    "</table>\n",
    "\n",
    "Export the extracted data in a JSON format. Also define the schema of your data, for example as follows:\n",
    "\n",
    "```\n",
    "[\n",
    "  {\n",
    "    \"type\": \"news\",\n",
    "    \"author\": \"Ai. Ma.\",\n",
    "    \"datetime_published\": \"20. oktober 2021 22:53 CET\",\n",
    "    \"title\": \"Lejko Zupanc: Starost ljudi, ki potrebujejo najbolj invazivno podporo, se znižuje\",\n",
    "    \"subtitle\": \"Pogovor s strokovnjakinjo v Odmevih\",\n",
    "    \"headline\": \"Strokovnjaki se bojijo mrzlih in prazničnih dni, ko se bodo ljudje več družili v zaprtih prostorih in manj prezračeva...\",\n",
    "    \"content\": \"Podatki o širjenju virusa niso dobri. Kakšne so trenutno razmere na vaši kliniki? \n",
    "Trenutne razmere so nekje na robu zmogljivosti, ki smo jih predvideli za covidne bolnike, tako v enoti intenzivne ter ...\",\n",
    "    \"tags\": [\"Novi koronavirus\", \"Covid-19\", \"Tatjana Lejko Zupanc\"]\n",
    "    \"comments\": [\n",
    "        {\n",
    "            \"user\": \"anonymous\",\n",
    "            \"comment\": \"Upajmo, da bo vse ok ...\"\n",
    "        }, ...\n",
    "    ]\n",
    "    \n",
    "  }, \n",
    "  {\n",
    "    ...\n",
    "]\n",
    "```\n",
    "\n",
    "Schema could be defined also using [JSON Schema guidelines](https://json-schema.org/)."
   ]
  },
  {
   "cell_type": "markdown",
   "metadata": {
    "colab_type": "text",
    "id": "CuMR9RRWc14b"
   },
   "source": [
    "`TODO: definition and short description of JSON data schema of the extracted data.`"
   ]
  },
  {
   "cell_type": "markdown",
   "metadata": {},
   "source": [
    "Proposed structure of the implementation is below. You can also import code from the accompanying *.py* files in the repository, so the code is clearer or organize code completely by yourself."
   ]
  },
  {
   "cell_type": "code",
   "execution_count": null,
   "metadata": {
    "colab": {},
    "colab_type": "code",
    "id": "mGR3NslWc14c"
   },
   "outputs": [],
   "source": [
    "# Implement news article page parsing\n",
    "\n",
    "def parse_news_article(url):\n",
    "    ...\n",
    "    return news_article_data"
   ]
  },
  {
   "cell_type": "code",
   "execution_count": null,
   "metadata": {
    "colab": {},
    "colab_type": "code",
    "id": "uIHflU3nc14e"
   },
   "outputs": [],
   "source": [
    "# Implement search results page parsing \n",
    "\n",
    "def parse_search_results(url):\n",
    "    ...\n",
    "    return results, next_page_url"
   ]
  },
  {
   "cell_type": "code",
   "execution_count": null,
   "metadata": {
    "colab": {},
    "colab_type": "code",
    "id": "ycXUr0nSc14h"
   },
   "outputs": [],
   "source": [
    "# Implement parsing, data merging and final representation\n",
    "\n",
    "def search():\n",
    "    ...\n",
    "    return data"
   ]
  },
  {
   "cell_type": "code",
   "execution_count": null,
   "metadata": {
    "colab": {},
    "colab_type": "code",
    "id": "Yp0FEp9hc14m"
   },
   "outputs": [],
   "source": [
    "# Main program and data export into a JSON\n",
    "\n",
    "MAIN_URL = \"https://www.rtvslo.si\"\n",
    "\n",
    "data = search()\n",
    "# Save data to UTF-8 encoded JSON\n",
    "..."
   ]
  },
  {
   "cell_type": "markdown",
   "metadata": {
    "colab_type": "text",
    "id": "_4y30zo_c14p"
   },
   "source": [
    "## Basic summarization\n",
    "\n",
    "Prepare and show at least five basic visualizations of the extracted data as presented in the chapter *Summarizing data - the basics* of the course's e-book. Explain each visualization of the data."
   ]
  },
  {
   "cell_type": "code",
   "execution_count": null,
   "metadata": {
    "colab": {},
    "colab_type": "code",
    "id": "wPjO-LSvc14q"
   },
   "outputs": [],
   "source": [
    "# Read data from JSON\n",
    "\n",
    "data = ..."
   ]
  },
  {
   "cell_type": "markdown",
   "metadata": {
    "colab_type": "text",
    "id": "d1jQe5ELc14s"
   },
   "source": [
    "### Visualization 1\n",
    "\n",
    "`TODO: name the visualization and describe it`"
   ]
  },
  {
   "cell_type": "code",
   "execution_count": null,
   "metadata": {
    "colab": {},
    "colab_type": "code",
    "id": "LpGWh7BPc14t"
   },
   "outputs": [],
   "source": [
    "# Visualization 1 code\n",
    "\n",
    "..."
   ]
  },
  {
   "cell_type": "markdown",
   "metadata": {
    "colab_type": "text",
    "id": "_SVSulJQc14v"
   },
   "source": [
    "### Visualization 2\n",
    "\n",
    "`TODO: name the visualization and describe it`"
   ]
  },
  {
   "cell_type": "code",
   "execution_count": null,
   "metadata": {
    "colab": {},
    "colab_type": "code",
    "id": "8GvtoWSDc14v"
   },
   "outputs": [],
   "source": [
    "# Visualization 2 code\n",
    "\n",
    "..."
   ]
  },
  {
   "cell_type": "markdown",
   "metadata": {
    "colab_type": "text",
    "id": "po4uso66c14x"
   },
   "source": [
    "### Visualization 3\n",
    "\n",
    "`TODO: name the visualization and describe it`"
   ]
  },
  {
   "cell_type": "code",
   "execution_count": null,
   "metadata": {
    "colab": {},
    "colab_type": "code",
    "id": "9xKMH6rjc14y"
   },
   "outputs": [],
   "source": [
    "# Visualization 3 code\n",
    "\n",
    "..."
   ]
  },
  {
   "cell_type": "markdown",
   "metadata": {
    "colab_type": "text",
    "id": "Ibr8rBN_c14z"
   },
   "source": [
    "### Visualization 4\n",
    "\n",
    "`TODO: name the visualization and describe it`"
   ]
  },
  {
   "cell_type": "code",
   "execution_count": null,
   "metadata": {
    "colab": {},
    "colab_type": "code",
    "id": "TIa6vaMOc140"
   },
   "outputs": [],
   "source": [
    "# Visualization 4 code\n",
    "\n",
    "..."
   ]
  },
  {
   "cell_type": "markdown",
   "metadata": {
    "colab_type": "text",
    "id": "riFWfhi8c142"
   },
   "source": [
    "### Visualization 5\n",
    "\n",
    "`TODO: name the visualization and describe it`"
   ]
  },
  {
   "cell_type": "code",
   "execution_count": null,
   "metadata": {
    "colab": {},
    "colab_type": "code",
    "id": "4Vv3yRILc15B"
   },
   "outputs": [],
   "source": [
    "# Visualization 5 code\n",
    "\n",
    "..."
   ]
  }
 ],
 "metadata": {
  "colab": {
   "name": "Web_Scraping.ipynb",
   "provenance": []
  },
  "kernelspec": {
   "display_name": "upv-project_1",
   "language": "python",
   "name": "upv-project_1"
  },
  "language_info": {
   "codemirror_mode": {
    "name": "ipython",
    "version": 3
   },
   "file_extension": ".py",
   "mimetype": "text/x-python",
   "name": "python",
   "nbconvert_exporter": "python",
   "pygments_lexer": "ipython3",
   "version": "3.9.7"
  }
 },
 "nbformat": 4,
 "nbformat_minor": 4
}
