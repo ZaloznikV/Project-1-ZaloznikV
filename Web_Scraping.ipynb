{
 "cells": [
  {
   "cell_type": "markdown",
   "metadata": {
    "colab_type": "text",
    "id": "Gbgp0NXdc137"
   },
   "source": [
    "# Project 1: Web scraping and basic summarization\n",
    "*University of Ljubljana, Faculty for computer and information science* <br />\n",
    "*Course: Introduction to data science*"
   ]
  },
  {
   "cell_type": "markdown",
   "metadata": {
    "colab_type": "text",
    "id": "UkYxh9TVc13-"
   },
   "source": [
    "In this Project you need to implement missing parts of this Jupyter notebook. All the code in the notebook must be reproducible and runnable, so include instructions for the environment setup or other specifics needed to run the notebook. The overview of the repository and setup should be put to README.md\n",
    "\n",
    "The idea of this Project is to automatically retrieve structured data from pages [rtvslo.si](https://www.rtvslo.si) or [24ur.com](https://www.24ur.com). "
   ]
  },
  {
   "cell_type": "markdown",
   "metadata": {
    "colab_type": "text",
    "id": "vmDFHSpSc14M"
   },
   "source": [
    "## Environment setup"
   ]
  },
  {
   "cell_type": "markdown",
   "metadata": {
    "colab_type": "text",
    "id": "U6cCtBRGc14R"
   },
   "source": [
    "Write instructions how to setup the environment to run this notebook, which libraries are installed, etc. Also provide installation sources.\n",
    "\n",
    "`TODO: environment setup description`"
   ]
  },
  {
   "cell_type": "code",
   "execution_count": null,
   "metadata": {
    "colab": {},
    "colab_type": "code",
    "id": "X3ooqpJOc14V"
   },
   "outputs": [],
   "source": [
    "# Load all the libraries needed for running the code chunks below\n",
    "\n",
    "\n"
   ]
  },
  {
   "cell_type": "markdown",
   "metadata": {
    "colab_type": "text",
    "id": "aIXBDoF1c14Z"
   },
   "source": [
    "## Web scraping"
   ]
  },
  {
   "cell_type": "markdown",
   "metadata": {
    "colab_type": "text",
    "id": "5KbM1Lx0c14a"
   },
   "source": [
    "News portals generally provide a search functionality to search for news of interest. Your goal is to (a) programatically open a news site (rtvslo.si or 24ur.com), (b) enter query term `koronavirus`, (c) iterate through all the results and (d) parse each news article.\n",
    "\n",
    "An example of Web pages from rtvslo.si:\n",
    "\n",
    "<table>\n",
    "    <tr>\n",
    "        <td style=\"text-align: left;\">rtvslo.si search results page</td>\n",
    "        <td style=\"text-align: left;\">rtvslo.si news article page</td>\n",
    "    </tr>\n",
    "    <tr>\n",
    "        <td><img src=\"./rtvslo1.png\" /></td>\n",
    "        <td><img src=\"./rtvslo2.png\" /></td>\n",
    "    </tr>\n",
    "</table>\n",
    "\n",
    "Export the extracted data in a JSON format. Also define the schema of your data, for example as follows:\n",
    "\n",
    "```\n",
    "[\n",
    "  {\n",
    "    \"type\": \"news\",\n",
    "    \"author\": \"Ai. Ma.\",\n",
    "    \"datetime_published\": \"20. oktober 2021 22:53 CET\",\n",
    "    \"title\": \"Lejko Zupanc: Starost ljudi, ki potrebujejo najbolj invazivno podporo, se znižuje\",\n",
    "    \"subtitle\": \"Pogovor s strokovnjakinjo v Odmevih\",\n",
    "    \"headline\": \"Strokovnjaki se bojijo mrzlih in prazničnih dni, ko se bodo ljudje več družili v zaprtih prostorih in manj prezračeva...\",\n",
    "    \"content\": \"Podatki o širjenju virusa niso dobri. Kakšne so trenutno razmere na vaši kliniki? \n",
    "Trenutne razmere so nekje na robu zmogljivosti, ki smo jih predvideli za covidne bolnike, tako v enoti intenzivne ter ...\",\n",
    "    \"tags\": [\"Novi koronavirus\", \"Covid-19\", \"Tatjana Lejko Zupanc\"]\n",
    "    \"comments\": [\n",
    "        {\n",
    "            \"user\": \"anonymous\",\n",
    "            \"comment\": \"Upajmo, da bo vse ok ...\"\n",
    "        }, ...\n",
    "    ]\n",
    "    \n",
    "  }, \n",
    "  {\n",
    "    ...\n",
    "]\n",
    "```\n",
    "\n",
    "Schema could be defined also using [JSON Schema guidelines](https://json-schema.org/)."
   ]
  },
  {
   "cell_type": "markdown",
   "metadata": {
    "colab_type": "text",
    "id": "CuMR9RRWc14b"
   },
   "source": [
    "`TODO: definition and short description of JSON data schema of the extracted data.`"
   ]
  },
  {
   "cell_type": "markdown",
   "metadata": {},
   "source": [
    "Proposed structure of the implementation is below. You can also import code from the accompanying *.py* files in the repository, so the code is clearer or organize code completely by yourself."
   ]
  },
  {
   "cell_type": "code",
   "execution_count": null,
   "metadata": {
    "colab": {},
    "colab_type": "code",
    "id": "mGR3NslWc14c"
   },
   "outputs": [],
   "source": [
    "# Implement news article page parsing\n",
    "\n",
    "def parse_news_article(url):\n",
    "    ...\n",
    "    return news_article_data"
   ]
  },
  {
   "cell_type": "code",
   "execution_count": null,
   "metadata": {
    "colab": {},
    "colab_type": "code",
    "id": "uIHflU3nc14e"
   },
   "outputs": [],
   "source": [
    "# Implement search results page parsing \n",
    "\n",
    "def parse_search_results(url):\n",
    "    ...\n",
    "    return results, next_page_url"
   ]
  },
  {
   "cell_type": "code",
   "execution_count": null,
   "metadata": {
    "colab": {},
    "colab_type": "code",
    "id": "ycXUr0nSc14h"
   },
   "outputs": [],
   "source": [
    "# Implement parsing, data merging and final representation\n",
    "\n",
    "def search():\n",
    "    ...\n",
    "    return data"
   ]
  },
  {
   "cell_type": "code",
   "execution_count": null,
   "metadata": {
    "colab": {},
    "colab_type": "code",
    "id": "Yp0FEp9hc14m"
   },
   "outputs": [],
   "source": [
    "# Main program and data export into a JSON\n",
    "\n",
    "MAIN_URL = \"https://www.rtvslo.si\"\n",
    "\n",
    "data = search()\n",
    "# Save data to UTF-8 encoded JSON\n",
    "..."
   ]
  },
  {
   "cell_type": "markdown",
   "metadata": {
    "colab_type": "text",
    "id": "_4y30zo_c14p"
   },
   "source": [
    "## Basic summarization\n",
    "\n",
    "Prepare and show at least five basic visualizations of the extracted data as presented in the chapter *Summarizing data - the basics* of the course's e-book. Explain each visualization of the data."
   ]
  },
  {
   "cell_type": "code",
   "execution_count": null,
   "metadata": {
    "colab": {},
    "colab_type": "code",
    "id": "wPjO-LSvc14q"
   },
   "outputs": [],
   "source": [
    "# Read data from JSON\n",
    "\n",
    "data = ..."
   ]
  },
  {
   "cell_type": "markdown",
   "metadata": {
    "colab_type": "text",
    "id": "d1jQe5ELc14s"
   },
   "source": [
    "### Visualization 1\n",
    "\n",
    "`TODO: name the visualization and describe it`"
   ]
  },
  {
   "cell_type": "code",
   "execution_count": null,
   "metadata": {
    "colab": {},
    "colab_type": "code",
    "id": "LpGWh7BPc14t"
   },
   "outputs": [],
   "source": [
    "# Visualization 1 code\n",
    "\n",
    "..."
   ]
  },
  {
   "cell_type": "markdown",
   "metadata": {
    "colab_type": "text",
    "id": "_SVSulJQc14v"
   },
   "source": [
    "### Visualization 2\n",
    "\n",
    "`TODO: name the visualization and describe it`"
   ]
  },
  {
   "cell_type": "code",
   "execution_count": null,
   "metadata": {
    "colab": {},
    "colab_type": "code",
    "id": "8GvtoWSDc14v"
   },
   "outputs": [],
   "source": [
    "# Visualization 2 code\n",
    "\n",
    "..."
   ]
  },
  {
   "cell_type": "markdown",
   "metadata": {
    "colab_type": "text",
    "id": "po4uso66c14x"
   },
   "source": [
    "### Visualization 3\n",
    "\n",
    "`TODO: name the visualization and describe it`"
   ]
  },
  {
   "cell_type": "code",
   "execution_count": null,
   "metadata": {
    "colab": {},
    "colab_type": "code",
    "id": "9xKMH6rjc14y"
   },
   "outputs": [],
   "source": [
    "# Visualization 3 code\n",
    "\n",
    "..."
   ]
  },
  {
   "cell_type": "markdown",
   "metadata": {
    "colab_type": "text",
    "id": "Ibr8rBN_c14z"
   },
   "source": [
    "### Visualization 4\n",
    "\n",
    "`TODO: name the visualization and describe it`"
   ]
  },
  {
   "cell_type": "code",
   "execution_count": null,
   "metadata": {
    "colab": {},
    "colab_type": "code",
    "id": "TIa6vaMOc140"
   },
   "outputs": [],
   "source": [
    "# Visualization 4 code\n",
    "\n",
    "..."
   ]
  },
  {
   "cell_type": "markdown",
   "metadata": {
    "colab_type": "text",
    "id": "riFWfhi8c142"
   },
   "source": [
    "### Visualization 5\n",
    "\n",
    "`TODO: name the visualization and describe it`"
   ]
  },
  {
   "cell_type": "code",
   "execution_count": null,
   "metadata": {
    "colab": {},
    "colab_type": "code",
    "id": "4Vv3yRILc15B"
   },
   "outputs": [],
   "source": [
    "# Visualization 5 code\n",
    "\n",
    "..."
   ]
  }
 ],
 "metadata": {
  "colab": {
   "name": "Web_Scraping.ipynb",
   "provenance": []
  },
  "kernelspec": {
   "display_name": "Python 3",
   "language": "python",
   "name": "python3"
  },
  "language_info": {
   "codemirror_mode": {
    "name": "ipython",
    "version": 3
   },
   "file_extension": ".py",
   "mimetype": "text/x-python",
   "name": "python",
   "nbconvert_exporter": "python",
   "pygments_lexer": "ipython3",
   "version": "3.6.10"
  }
 },
 "nbformat": 4,
 "nbformat_minor": 1
}
