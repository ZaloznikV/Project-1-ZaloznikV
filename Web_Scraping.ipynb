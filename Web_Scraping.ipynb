{
 "cells": [
  {
   "cell_type": "markdown",
   "metadata": {
    "colab_type": "text",
    "id": "Gbgp0NXdc137"
   },
   "source": [
    "# Project 1: Web scraping and basic summarization\n",
    "*University of Ljubljana, Faculty for computer and information science* <br />\n",
    "*Course: Introduction to data science*"
   ]
  },
  {
   "cell_type": "markdown",
   "metadata": {
    "colab_type": "text",
    "id": "UkYxh9TVc13-"
   },
   "source": [
    "\n",
    "\n",
    "The idea of this Project is to automatically retrieve structured data from pages [rtvslo.si](https://www.rtvslo.si)."
   ]
  },
  {
   "cell_type": "markdown",
   "metadata": {
    "colab_type": "text",
    "id": "vmDFHSpSc14M"
   },
   "source": [
    "## Environment setup"
   ]
  },
  {
   "cell_type": "markdown",
   "metadata": {
    "colab_type": "text",
    "id": "U6cCtBRGc14R"
   },
   "source": [
    "To setup environment we first need to install conda. Conda can be downloaded from: https://docs.conda.io/projects/conda/en/latest/user-guide/install/download.html . Then we need to make new evironment. I used name \"upv-project_1\" but it can be arbitrary name. Use commands from below to setup environment. \n",
    "\n",
    "`ENVIRONMENT SETUP DESCRIPTIONS:\n",
    "conda create --name upv-project_1\n",
    "conda activate upv-project_1\n",
    "conda install python\n",
    "conda install selenium\n",
    "conda install jupyter notebook\n",
    "ipython kernel install --name \"upv-project_1\" --user\n",
    "conda install pandas\n",
    "conda install requests\n",
    "conda install numpy\n",
    "conda install matplotlib\n",
    "conda install scipy`"
   ]
  },
  {
   "cell_type": "markdown",
   "metadata": {
    "colab_type": "text",
    "id": "aIXBDoF1c14Z"
   },
   "source": [
    "## Web scraping"
   ]
  },
  {
   "cell_type": "markdown",
   "metadata": {},
   "source": [
    "We will scrape all whole pages until 1000th article with search key \"koronavirus\" from  [rtvslo.si](https://www.rtvslo.si) and save data in JSON format.\n"
   ]
  },
  {
   "cell_type": "markdown",
   "metadata": {
    "colab_type": "text",
    "id": "5KbM1Lx0c14a"
   },
   "source": [
    "JSON Schema:\n",
    "\n",
    "```\n",
    "[\n",
    "  {\n",
    "    \"author\": [\"author_1\", \"author_2\",...],\n",
    "    \"day_published\": \"DD.MM.YYYY\",\n",
    "    \"changed_later\": \"YES\"/\"NO\", \n",
    "    \"title\": \"article_title\",\n",
    "    \"subtitle\": \"article_subtitle\",\n",
    "    \"tags\": [\"tag_1\", \"tag_2\",...],\n",
    "    \"section_tag\": \"section_tag\"\n",
    "    \"content\": \"article_text\",\n",
    "    \"comments\": [\n",
    "        {\n",
    "            \"user\": \"user_name\",\n",
    "            \"date_hour\": [\"DD.MM.YYYY\"; \"MM:HH\"],\n",
    "            \"grade\": comment_grade(as number),\n",
    "            \"reply\": \"YES\"/\"NO\",\n",
    "            \"comment\": \"comment_text\",\n",
    "\n",
    "        },...\n",
    "    ],\n",
    "    \"hour_published\": \"MM:HH\"\n",
    "    \n",
    "  }, \n",
    "  {\n",
    "    ...\n",
    "]\n",
    "\n",
    "\n",
    "```\n"
   ]
  },
  {
   "cell_type": "markdown",
   "metadata": {},
   "source": [
    "In block below are listed all libraries and helper functions needed. Helper functions are imported from helper_f.py file."
   ]
  },
  {
   "cell_type": "code",
   "execution_count": 126,
   "metadata": {},
   "outputs": [],
   "source": [
    "# Load all the libraries needed for running the code chunks below\n",
    "\n",
    "from selenium import webdriver\n",
    "from selenium.webdriver.common.keys import Keys\n",
    "import time\n",
    "import pandas as pd\n",
    "import os\n",
    "from selenium.webdriver.common.by import By\n",
    "import json\n",
    "import numpy as np\n",
    "import matplotlib.pyplot as plt\n",
    "import scipy\n",
    "import scipy.stats as stats\n",
    "import matplotlib.dates as mdates\n",
    "\n",
    "\n",
    "from helper_f import links,  get_article_data,  get_article_comments,  edit_and_join, get_data_skit, get_data_dostopno, get_data_enostavno, make_json_format, change_day_published\n"
   ]
  },
  {
   "cell_type": "markdown",
   "metadata": {},
   "source": [
    "First we need to get urls of all articles. Function \"links\" simulates typing search key \"koronavirus\" in search bar and navigates trough pages and collects urls of most recent articles and saves them into file \"article_urls.txt\". Every time we run it we can get new different urls."
   ]
  },
  {
   "cell_type": "code",
   "execution_count": 2,
   "metadata": {},
   "outputs": [],
   "source": [
    "#COMMENTED TO CAN NOT ACCIDENTALY OVERWRITE URLS WITH  NEW, MORE RECENT ONES.\n",
    "\n",
    "main_URL = \"https://www.rtvslo.si\"\n",
    "num = 1000 #number of articles, max on rtvslo is 1000\n",
    "main_key = \"Koronavirus\"\n",
    "\n",
    "\n",
    "#links(main_URL, main_key, num) #get 1000 article urls for search key \"Koronavirus\" and write it into article_urls.txt file\n"
   ]
  },
  {
   "cell_type": "markdown",
   "metadata": {},
   "source": [
    "Now we can read url by url from \"article_urls.txt\" file. I divided urls in 4 categories, based on webpage style and features. Majority of web pages is in let's say normal rtvslo article format (those also can have comments). But some of them are in others \"SKIT\", \"ENOSTAVNO\" and \"DOSTOPNO\" cathegory. Each of them have unique source code. Pages will be scraped depending on cathegory by functions: get_article_data (for normal articles), get_data_skit, get_data_dostopno and get_data_enostavno. Comments from \"normal\" rtvslo articles wil be collected with function get_article_comments. Data from each article will be saved into own .json file in json folder with make_json_format function . Before scraping each article script will check wether article was already scraped or not. So in case of some interuption it wont need to start from beginning again. "
   ]
  },
  {
   "cell_type": "code",
   "execution_count": 3,
   "metadata": {},
   "outputs": [
    {
     "name": "stdout",
     "output_type": "stream",
     "text": [
      "Started scraping\n",
      "END OF MAIN SCRAPING!!!\n",
      "END OF SKIT SCRAPING!!!\n",
      "END OF DOSTOPNO SCRAPING!!!\n",
      "END OF ENOSTAVNO SCRAPING!!!\n"
     ]
    }
   ],
   "source": [
    "data = []\n",
    "data_urls = [] #normal rtvslo articles with no SKIT, ENOSTAVNO, DOSTOPNO articles\n",
    "\n",
    "enostavno = []\n",
    "skit = []\n",
    "dostopno = []\n",
    "i = 0\n",
    "print(\"Started scraping\")\n",
    "file = open('article_urls.txt', 'r', encoding='utf-8')\n",
    "lines = file.readlines()\n",
    "for line in lines: #urls \n",
    "    if \"/enostavno/\" in line:\n",
    "        enostavno.append(line[:-1])\n",
    "    elif \"/skit/\" in line:\n",
    "        skit.append(line[:-1]) #\\n has to be removed\n",
    "    elif \"/dostopno/\" in line:\n",
    "        dostopno.append(line[:-1])\n",
    "    else: #normal ones\n",
    "        data_urls.append(line[:-1])\n",
    "        #print(\"Starting to write url number \", )\n",
    "\n",
    "        \n",
    "u = len(data_urls)\n",
    "s = len(skit)\n",
    "d = len(dostopno)\n",
    "e = len(enostavno)\n",
    "        \n",
    "for j in range(u): #len data_urls\n",
    "    if os.path.isfile('json/{}.json'.format(j)): #check if article data was already scraped\n",
    "        pass\n",
    "    else: #get article and comments data\n",
    "\n",
    "        (authors, title, subtitle, date, hour, change, article_tags, section_tag, text) = get_article_data(data_urls[j])\n",
    "        comments = get_article_comments(data_urls[j])\n",
    "        line_data = make_json_format(authors, title, subtitle, date, hour, change, article_tags, section_tag, text, comments)\n",
    "        \n",
    "        data.append(line_data)\n",
    "\n",
    "\n",
    "        #write to seperate .json file\n",
    "        with open(\"json/{}.json\".format(j), \"w\", encoding='utf-8') as outfile:\n",
    "            json.dump(line_data, outfile, ensure_ascii=False)\n",
    "            \n",
    "print(\"END OF MAIN SCRAPING!!!\")\n",
    "\n",
    "\n",
    "for i in range(s): #len skit\n",
    "    if os.path.isfile('json/{}.json'.format(u + i)): #check if article data was already scraped\n",
    "        pass\n",
    "    else:\n",
    "        (authors, title, subtitle, date, hour, change, article_tags, section_tag, text, comments) = get_data_skit(skit[i])\n",
    "        line_data = make_json_format(authors, title, subtitle, date, hour, change, article_tags, section_tag, text, comments)\n",
    "        \n",
    "        data.append(line_data)\n",
    "\n",
    "\n",
    "        #write to seperate .json file\n",
    "        with open(\"json/{}.json\".format(i + u), \"w\", encoding='utf-8') as outfile:\n",
    "            json.dump(line_data, outfile, ensure_ascii=False)\n",
    "            \n",
    "print(\"END OF SKIT SCRAPING!!!\")\n",
    "\n",
    "\n",
    "\n",
    "\n",
    "for i in range(d):\n",
    "    if os.path.isfile('json/{}.json'.format(u + s + i)): #check if article data was already scraped\n",
    "        pass\n",
    "    else:\n",
    "        (authors, title, subtitle, date, hour, change, article_tags, section_tag, text, comments) = get_data_dostopno(dostopno[i])\n",
    "        line_data = make_json_format(authors, title, subtitle, date, hour, change, article_tags, section_tag, text, comments)\n",
    "        \n",
    "        data.append(line_data)\n",
    "\n",
    "\n",
    "        #write to seperate .json file\n",
    "        with open(\"json/{}.json\".format(i + u + s), \"w\", encoding='utf-8') as outfile:\n",
    "            json.dump(line_data, outfile, ensure_ascii=False)\n",
    "            \n",
    "print(\"END OF DOSTOPNO SCRAPING!!!\")\n",
    "\n",
    "\n",
    "for i in range(e):\n",
    "    if os.path.isfile('json/{}.json'.format(u + s + i + d)): #check if article data was already scraped\n",
    "        pass\n",
    "    else:\n",
    "        (authors, title, subtitle, date, hour, change, article_tags, section_tag, text, comments) = get_data_enostavno(enostavno[i])\n",
    "        line_data = make_json_format(authors, title, subtitle, date, hour, change, article_tags, section_tag, text, comments)\n",
    "        \n",
    "        data.append(line_data)\n",
    "\n",
    "\n",
    "        #write to seperate .json file\n",
    "        with open(\"json/{}.json\".format(i + u + s + d), \"w\", encoding='utf-8') as outfile:\n",
    "            json.dump(line_data, outfile, ensure_ascii=False)\n",
    "            \n",
    "print(\"END OF ENOSTAVNO SCRAPING!!!\")\n",
    "\n",
    "\n",
    "\n",
    "        \n",
    "    "
   ]
  },
  {
   "cell_type": "markdown",
   "metadata": {},
   "source": [
    "It takes a lot of time to scrape all the data. I found some typing mistakes but decided not to scrape again but to fix already scraped data. Function in block below edit each .json file and then saves it into folder edited_json_files. It also merges all edited files togather into one big file called data.json"
   ]
  },
  {
   "cell_type": "code",
   "execution_count": 4,
   "metadata": {},
   "outputs": [
    {
     "name": "stdout",
     "output_type": "stream",
     "text": [
      "Json files fixed and joined into data.json file.\n"
     ]
    }
   ],
   "source": [
    "edit_and_join() #fix typos and join all single article json files into one big json file with all the data.\n",
    "print(\"Json files fixed and joined into data.json file.\")"
   ]
  },
  {
   "cell_type": "markdown",
   "metadata": {
    "colab_type": "text",
    "id": "_4y30zo_c14p"
   },
   "source": [
    "## Basic summarization\n",
    "\n",
    "Prepare and show at least five basic visualizations of the extracted data as presented in the chapter *Summarizing data - the basics* of the course's e-book. Explain each visualization of the data."
   ]
  },
  {
   "cell_type": "code",
   "execution_count": 5,
   "metadata": {},
   "outputs": [
    {
     "data": {
      "text/html": [
       "<div>\n",
       "<style scoped>\n",
       "    .dataframe tbody tr th:only-of-type {\n",
       "        vertical-align: middle;\n",
       "    }\n",
       "\n",
       "    .dataframe tbody tr th {\n",
       "        vertical-align: top;\n",
       "    }\n",
       "\n",
       "    .dataframe thead th {\n",
       "        text-align: right;\n",
       "    }\n",
       "</style>\n",
       "<table border=\"1\" class=\"dataframe\">\n",
       "  <thead>\n",
       "    <tr style=\"text-align: right;\">\n",
       "      <th></th>\n",
       "      <th>author</th>\n",
       "      <th>day_published</th>\n",
       "      <th>changed_later</th>\n",
       "      <th>title</th>\n",
       "      <th>subtitle</th>\n",
       "      <th>tags</th>\n",
       "      <th>section_tag</th>\n",
       "      <th>content</th>\n",
       "      <th>comments</th>\n",
       "      <th>hour_published</th>\n",
       "    </tr>\n",
       "  </thead>\n",
       "  <tbody>\n",
       "    <tr>\n",
       "      <th>0</th>\n",
       "      <td>[A. P. J.]</td>\n",
       "      <td>14.11.2021</td>\n",
       "      <td>YES</td>\n",
       "      <td>V Avstriji od ponedeljka zaprtje države samo z...</td>\n",
       "      <td>Evropa v primežu četrtega vala okužb</td>\n",
       "      <td>[Avstrija, Nemčija, covid-19, koronavirus]</td>\n",
       "      <td>Novi koronavirus</td>\n",
       "      <td>Dostop do javnih krajev bodo od ponedeljka tak...</td>\n",
       "      <td>[{'user': 'maIikan', 'date_hour': ['14.11.2021...</td>\n",
       "      <td>12:58</td>\n",
       "    </tr>\n",
       "    <tr>\n",
       "      <th>1</th>\n",
       "      <td>[G. C.]</td>\n",
       "      <td>13.11.2021</td>\n",
       "      <td>YES</td>\n",
       "      <td>Ministrstvo za izobraževanje šolam posredovalo...</td>\n",
       "      <td>Učenci in dijaki, ki se ne bodo samotestirali,...</td>\n",
       "      <td>[samotestiranje, protokol, šole]</td>\n",
       "      <td>Novi koronavirus</td>\n",
       "      <td>Ministrstvo za izobraževanje, znanost in šport...</td>\n",
       "      <td>[{'user': 'one_', 'date_hour': ['13.11.2021', ...</td>\n",
       "      <td>14:04</td>\n",
       "    </tr>\n",
       "    <tr>\n",
       "      <th>2</th>\n",
       "      <td>[A. P. J.]</td>\n",
       "      <td>13.11.2021</td>\n",
       "      <td>YES</td>\n",
       "      <td>Angela Merkel ob rekordno visoki incidenci poz...</td>\n",
       "      <td>Nizozemska znova delno omejuje javno življenje</td>\n",
       "      <td>[covid-19, koronavirus, Nemčija]</td>\n",
       "      <td>Novi koronavirus</td>\n",
       "      <td>\"Pred nami so naporni tedni, kot vidite, sem z...</td>\n",
       "      <td>[{'user': 'Kemik', 'date_hour': ['13.11.2021',...</td>\n",
       "      <td>11:56</td>\n",
       "    </tr>\n",
       "    <tr>\n",
       "      <th>3</th>\n",
       "      <td>[T. K. B., G. C., B. R.]</td>\n",
       "      <td>13.11.2021</td>\n",
       "      <td>YES</td>\n",
       "      <td>Prostih še 9 covidnih intenzivnih postelj, v b...</td>\n",
       "      <td>V petek potrjenih 3666 okužb, umrlo 20 bolnikov</td>\n",
       "      <td>[novi koronavirus, covid-19, statistika, okužb...</td>\n",
       "      <td>Novi koronavirus</td>\n",
       "      <td>Kot je po sestanku za N1 povedal koordinator c...</td>\n",
       "      <td>[{'user': 'arhitektka', 'date_hour': ['13.11.2...</td>\n",
       "      <td>09:41</td>\n",
       "    </tr>\n",
       "    <tr>\n",
       "      <th>4</th>\n",
       "      <td>[Mitja Lisjak]</td>\n",
       "      <td>13.11.2021</td>\n",
       "      <td>NO</td>\n",
       "      <td>Ob obveznem samotestiranju v šolah: \"Kje je sp...</td>\n",
       "      <td>235. MMC-debata o obveznem samotestiranju v šolah</td>\n",
       "      <td>[MMC-debata, MMCdebata, #MMCdebata, MMC debata...</td>\n",
       "      <td>#MMCdebata</td>\n",
       "      <td>Obvezno samotestiranje na covid-19 učencev in ...</td>\n",
       "      <td>[{'user': 'maja kibira', 'date_hour': ['13.11....</td>\n",
       "      <td>06:20</td>\n",
       "    </tr>\n",
       "  </tbody>\n",
       "</table>\n",
       "</div>"
      ],
      "text/plain": [
       "                     author day_published changed_later  \\\n",
       "0                [A. P. J.]    14.11.2021           YES   \n",
       "1                   [G. C.]    13.11.2021           YES   \n",
       "2                [A. P. J.]    13.11.2021           YES   \n",
       "3  [T. K. B., G. C., B. R.]    13.11.2021           YES   \n",
       "4            [Mitja Lisjak]    13.11.2021            NO   \n",
       "\n",
       "                                               title  \\\n",
       "0  V Avstriji od ponedeljka zaprtje države samo z...   \n",
       "1  Ministrstvo za izobraževanje šolam posredovalo...   \n",
       "2  Angela Merkel ob rekordno visoki incidenci poz...   \n",
       "3  Prostih še 9 covidnih intenzivnih postelj, v b...   \n",
       "4  Ob obveznem samotestiranju v šolah: \"Kje je sp...   \n",
       "\n",
       "                                            subtitle  \\\n",
       "0               Evropa v primežu četrtega vala okužb   \n",
       "1  Učenci in dijaki, ki se ne bodo samotestirali,...   \n",
       "2     Nizozemska znova delno omejuje javno življenje   \n",
       "3    V petek potrjenih 3666 okužb, umrlo 20 bolnikov   \n",
       "4  235. MMC-debata o obveznem samotestiranju v šolah   \n",
       "\n",
       "                                                tags       section_tag  \\\n",
       "0         [Avstrija, Nemčija, covid-19, koronavirus]  Novi koronavirus   \n",
       "1                   [samotestiranje, protokol, šole]  Novi koronavirus   \n",
       "2                   [covid-19, koronavirus, Nemčija]  Novi koronavirus   \n",
       "3  [novi koronavirus, covid-19, statistika, okužb...  Novi koronavirus   \n",
       "4  [MMC-debata, MMCdebata, #MMCdebata, MMC debata...        #MMCdebata   \n",
       "\n",
       "                                             content  \\\n",
       "0  Dostop do javnih krajev bodo od ponedeljka tak...   \n",
       "1  Ministrstvo za izobraževanje, znanost in šport...   \n",
       "2  \"Pred nami so naporni tedni, kot vidite, sem z...   \n",
       "3  Kot je po sestanku za N1 povedal koordinator c...   \n",
       "4  Obvezno samotestiranje na covid-19 učencev in ...   \n",
       "\n",
       "                                            comments hour_published  \n",
       "0  [{'user': 'maIikan', 'date_hour': ['14.11.2021...          12:58  \n",
       "1  [{'user': 'one_', 'date_hour': ['13.11.2021', ...          14:04  \n",
       "2  [{'user': 'Kemik', 'date_hour': ['13.11.2021',...          11:56  \n",
       "3  [{'user': 'arhitektka', 'date_hour': ['13.11.2...          09:41  \n",
       "4  [{'user': 'maja kibira', 'date_hour': ['13.11....          06:20  "
      ]
     },
     "execution_count": 5,
     "metadata": {},
     "output_type": "execute_result"
    }
   ],
   "source": [
    "#load json file\n",
    "data_file =  open('data.json', \"r\", encoding='utf-8')\n",
    "data = json.load(data_file)\n",
    "data_file.close()\n",
    "\n",
    "df = pd.json_normalize(data)\n",
    "df.head()\n",
    "\n",
    "\n"
   ]
  },
  {
   "cell_type": "code",
   "execution_count": 6,
   "metadata": {},
   "outputs": [
    {
     "data": {
      "text/html": [
       "<div>\n",
       "<style scoped>\n",
       "    .dataframe tbody tr th:only-of-type {\n",
       "        vertical-align: middle;\n",
       "    }\n",
       "\n",
       "    .dataframe tbody tr th {\n",
       "        vertical-align: top;\n",
       "    }\n",
       "\n",
       "    .dataframe thead th {\n",
       "        text-align: right;\n",
       "    }\n",
       "</style>\n",
       "<table border=\"1\" class=\"dataframe\">\n",
       "  <thead>\n",
       "    <tr style=\"text-align: right;\">\n",
       "      <th></th>\n",
       "      <th>author</th>\n",
       "      <th>day_published</th>\n",
       "      <th>changed_later</th>\n",
       "      <th>title</th>\n",
       "      <th>subtitle</th>\n",
       "      <th>tags</th>\n",
       "      <th>section_tag</th>\n",
       "      <th>content</th>\n",
       "      <th>comments</th>\n",
       "      <th>hour_published</th>\n",
       "      <th>day</th>\n",
       "      <th>word_number</th>\n",
       "      <th>comment_number</th>\n",
       "    </tr>\n",
       "  </thead>\n",
       "  <tbody>\n",
       "    <tr>\n",
       "      <th>0</th>\n",
       "      <td>[A. P. J.]</td>\n",
       "      <td>14.11.2021</td>\n",
       "      <td>YES</td>\n",
       "      <td>V Avstriji od ponedeljka zaprtje države samo z...</td>\n",
       "      <td>Evropa v primežu četrtega vala okužb</td>\n",
       "      <td>[Avstrija, Nemčija, covid-19, koronavirus]</td>\n",
       "      <td>Novi koronavirus</td>\n",
       "      <td>Dostop do javnih krajev bodo od ponedeljka tak...</td>\n",
       "      <td>[{'user': 'maIikan', 'date_hour': ['14.11.2021...</td>\n",
       "      <td>12:58</td>\n",
       "      <td>2021-11-14</td>\n",
       "      <td>962</td>\n",
       "      <td>178</td>\n",
       "    </tr>\n",
       "    <tr>\n",
       "      <th>1</th>\n",
       "      <td>[G. C.]</td>\n",
       "      <td>13.11.2021</td>\n",
       "      <td>YES</td>\n",
       "      <td>Ministrstvo za izobraževanje šolam posredovalo...</td>\n",
       "      <td>Učenci in dijaki, ki se ne bodo samotestirali,...</td>\n",
       "      <td>[samotestiranje, protokol, šole]</td>\n",
       "      <td>Novi koronavirus</td>\n",
       "      <td>Ministrstvo za izobraževanje, znanost in šport...</td>\n",
       "      <td>[{'user': 'one_', 'date_hour': ['13.11.2021', ...</td>\n",
       "      <td>14:04</td>\n",
       "      <td>2021-11-13</td>\n",
       "      <td>808</td>\n",
       "      <td>89</td>\n",
       "    </tr>\n",
       "    <tr>\n",
       "      <th>2</th>\n",
       "      <td>[A. P. J.]</td>\n",
       "      <td>13.11.2021</td>\n",
       "      <td>YES</td>\n",
       "      <td>Angela Merkel ob rekordno visoki incidenci poz...</td>\n",
       "      <td>Nizozemska znova delno omejuje javno življenje</td>\n",
       "      <td>[covid-19, koronavirus, Nemčija]</td>\n",
       "      <td>Novi koronavirus</td>\n",
       "      <td>\"Pred nami so naporni tedni, kot vidite, sem z...</td>\n",
       "      <td>[{'user': 'Kemik', 'date_hour': ['13.11.2021',...</td>\n",
       "      <td>11:56</td>\n",
       "      <td>2021-11-13</td>\n",
       "      <td>868</td>\n",
       "      <td>112</td>\n",
       "    </tr>\n",
       "    <tr>\n",
       "      <th>3</th>\n",
       "      <td>[T. K. B., G. C., B. R.]</td>\n",
       "      <td>13.11.2021</td>\n",
       "      <td>YES</td>\n",
       "      <td>Prostih še 9 covidnih intenzivnih postelj, v b...</td>\n",
       "      <td>V petek potrjenih 3666 okužb, umrlo 20 bolnikov</td>\n",
       "      <td>[novi koronavirus, covid-19, statistika, okužb...</td>\n",
       "      <td>Novi koronavirus</td>\n",
       "      <td>Kot je po sestanku za N1 povedal koordinator c...</td>\n",
       "      <td>[{'user': 'arhitektka', 'date_hour': ['13.11.2...</td>\n",
       "      <td>09:41</td>\n",
       "      <td>2021-11-13</td>\n",
       "      <td>737</td>\n",
       "      <td>377</td>\n",
       "    </tr>\n",
       "    <tr>\n",
       "      <th>4</th>\n",
       "      <td>[Mitja Lisjak]</td>\n",
       "      <td>13.11.2021</td>\n",
       "      <td>NO</td>\n",
       "      <td>Ob obveznem samotestiranju v šolah: \"Kje je sp...</td>\n",
       "      <td>235. MMC-debata o obveznem samotestiranju v šolah</td>\n",
       "      <td>[MMC-debata, MMCdebata, #MMCdebata, MMC debata...</td>\n",
       "      <td>#MMCdebata</td>\n",
       "      <td>Obvezno samotestiranje na covid-19 učencev in ...</td>\n",
       "      <td>[{'user': 'maja kibira', 'date_hour': ['13.11....</td>\n",
       "      <td>06:20</td>\n",
       "      <td>2021-11-13</td>\n",
       "      <td>466</td>\n",
       "      <td>29</td>\n",
       "    </tr>\n",
       "    <tr>\n",
       "      <th>5</th>\n",
       "      <td>[A. G.]</td>\n",
       "      <td>12.11.2021</td>\n",
       "      <td>NO</td>\n",
       "      <td>V prvem krogu EP-ja v Čatežu zmagala le prva s...</td>\n",
       "      <td>Dekleta brez Laure Unuk izgubile proti Belgiji...</td>\n",
       "      <td>[Matej Šebenik, Jure Borišek, Lara Janželj, šah]</td>\n",
       "      <td>Preostali športi</td>\n",
       "      <td>Prva ženska vrsta, 15. nosilka, je proti Belgi...</td>\n",
       "      <td>[{'user': 'acrje', 'date_hour': ['13.11.2021',...</td>\n",
       "      <td>22:26</td>\n",
       "      <td>2021-11-12</td>\n",
       "      <td>664</td>\n",
       "      <td>3</td>\n",
       "    </tr>\n",
       "    <tr>\n",
       "      <th>6</th>\n",
       "      <td>[B. V.]</td>\n",
       "      <td>12.11.2021</td>\n",
       "      <td>YES</td>\n",
       "      <td>Med deseterico članic EU-ja, ki se najslabše s...</td>\n",
       "      <td>V Sloveniji se okužbe širijo najhitreje v Unij...</td>\n",
       "      <td>[Novi koronavirus, ECDC, Slovenija]</td>\n",
       "      <td>Novi koronavirus</td>\n",
       "      <td>V svoji redni tedenski oceni ECDC ugotavlja, d...</td>\n",
       "      <td>[{'user': 'Moots', 'date_hour': ['12.11.2021',...</td>\n",
       "      <td>18:22</td>\n",
       "      <td>2021-11-12</td>\n",
       "      <td>301</td>\n",
       "      <td>65</td>\n",
       "    </tr>\n",
       "    <tr>\n",
       "      <th>7</th>\n",
       "      <td>[J. R.]</td>\n",
       "      <td>12.11.2021</td>\n",
       "      <td>NO</td>\n",
       "      <td>Ameriška olimpijka Sunisa Lee žrtev rasistične...</td>\n",
       "      <td>\"Bila sem zelo jezna, a nisem mogla ničesar na...</td>\n",
       "      <td>[Sunisa Lee, rasistični napad, ZDA]</td>\n",
       "      <td>S. in J. Amerika</td>\n",
       "      <td>V intervjuju za Pop Sugar je razkrila, da je b...</td>\n",
       "      <td>[{'user': 'mrclaggart', 'date_hour': ['12.11.2...</td>\n",
       "      <td>13:11</td>\n",
       "      <td>2021-11-12</td>\n",
       "      <td>249</td>\n",
       "      <td>7</td>\n",
       "    </tr>\n",
       "    <tr>\n",
       "      <th>8</th>\n",
       "      <td>[J. R., B. V.]</td>\n",
       "      <td>12.11.2021</td>\n",
       "      <td>YES</td>\n",
       "      <td>Danska znova uvedla uporabo covidnega potrdila...</td>\n",
       "      <td>Nemčija uvrstila Avstrijo med območja z visoki...</td>\n",
       "      <td>[Danska, covidno potrdilo, covid-19, koronavirus]</td>\n",
       "      <td>Novi koronavirus</td>\n",
       "      <td>Covidno potrdilo bo obvezno predvsem za obisk ...</td>\n",
       "      <td>[{'user': 'Burshopeli', 'date_hour': ['12.11.2...</td>\n",
       "      <td>11:59</td>\n",
       "      <td>2021-11-12</td>\n",
       "      <td>2041</td>\n",
       "      <td>131</td>\n",
       "    </tr>\n",
       "    <tr>\n",
       "      <th>9</th>\n",
       "      <td>[M. Z., A. K. K., G. C.]</td>\n",
       "      <td>12.11.2021</td>\n",
       "      <td>YES</td>\n",
       "      <td>IJS: Pri številu potrjenih okužb smo že dosegl...</td>\n",
       "      <td>Na covidnem oddelku UKC-ja je pomagal tudi min...</td>\n",
       "      <td>[novi koronavirus, covid-19, okužbe]</td>\n",
       "      <td>Novi koronavirus</td>\n",
       "      <td>Predvidoma bo na intenzivnih oddelkih več kot...</td>\n",
       "      <td>[{'user': 'RESNICA1977', 'date_hour': ['12.11....</td>\n",
       "      <td>08:27</td>\n",
       "      <td>2021-11-12</td>\n",
       "      <td>1062</td>\n",
       "      <td>318</td>\n",
       "    </tr>\n",
       "  </tbody>\n",
       "</table>\n",
       "</div>"
      ],
      "text/plain": [
       "                     author day_published changed_later  \\\n",
       "0                [A. P. J.]    14.11.2021           YES   \n",
       "1                   [G. C.]    13.11.2021           YES   \n",
       "2                [A. P. J.]    13.11.2021           YES   \n",
       "3  [T. K. B., G. C., B. R.]    13.11.2021           YES   \n",
       "4            [Mitja Lisjak]    13.11.2021            NO   \n",
       "5                   [A. G.]    12.11.2021            NO   \n",
       "6                   [B. V.]    12.11.2021           YES   \n",
       "7                   [J. R.]    12.11.2021            NO   \n",
       "8            [J. R., B. V.]    12.11.2021           YES   \n",
       "9  [M. Z., A. K. K., G. C.]    12.11.2021           YES   \n",
       "\n",
       "                                               title  \\\n",
       "0  V Avstriji od ponedeljka zaprtje države samo z...   \n",
       "1  Ministrstvo za izobraževanje šolam posredovalo...   \n",
       "2  Angela Merkel ob rekordno visoki incidenci poz...   \n",
       "3  Prostih še 9 covidnih intenzivnih postelj, v b...   \n",
       "4  Ob obveznem samotestiranju v šolah: \"Kje je sp...   \n",
       "5  V prvem krogu EP-ja v Čatežu zmagala le prva s...   \n",
       "6  Med deseterico članic EU-ja, ki se najslabše s...   \n",
       "7  Ameriška olimpijka Sunisa Lee žrtev rasistične...   \n",
       "8  Danska znova uvedla uporabo covidnega potrdila...   \n",
       "9  IJS: Pri številu potrjenih okužb smo že dosegl...   \n",
       "\n",
       "                                            subtitle  \\\n",
       "0               Evropa v primežu četrtega vala okužb   \n",
       "1  Učenci in dijaki, ki se ne bodo samotestirali,...   \n",
       "2     Nizozemska znova delno omejuje javno življenje   \n",
       "3    V petek potrjenih 3666 okužb, umrlo 20 bolnikov   \n",
       "4  235. MMC-debata o obveznem samotestiranju v šolah   \n",
       "5  Dekleta brez Laure Unuk izgubile proti Belgiji...   \n",
       "6  V Sloveniji se okužbe širijo najhitreje v Unij...   \n",
       "7  \"Bila sem zelo jezna, a nisem mogla ničesar na...   \n",
       "8  Nemčija uvrstila Avstrijo med območja z visoki...   \n",
       "9  Na covidnem oddelku UKC-ja je pomagal tudi min...   \n",
       "\n",
       "                                                tags       section_tag  \\\n",
       "0         [Avstrija, Nemčija, covid-19, koronavirus]  Novi koronavirus   \n",
       "1                   [samotestiranje, protokol, šole]  Novi koronavirus   \n",
       "2                   [covid-19, koronavirus, Nemčija]  Novi koronavirus   \n",
       "3  [novi koronavirus, covid-19, statistika, okužb...  Novi koronavirus   \n",
       "4  [MMC-debata, MMCdebata, #MMCdebata, MMC debata...        #MMCdebata   \n",
       "5   [Matej Šebenik, Jure Borišek, Lara Janželj, šah]  Preostali športi   \n",
       "6                [Novi koronavirus, ECDC, Slovenija]  Novi koronavirus   \n",
       "7                [Sunisa Lee, rasistični napad, ZDA]  S. in J. Amerika   \n",
       "8  [Danska, covidno potrdilo, covid-19, koronavirus]  Novi koronavirus   \n",
       "9               [novi koronavirus, covid-19, okužbe]  Novi koronavirus   \n",
       "\n",
       "                                             content  \\\n",
       "0  Dostop do javnih krajev bodo od ponedeljka tak...   \n",
       "1  Ministrstvo za izobraževanje, znanost in šport...   \n",
       "2  \"Pred nami so naporni tedni, kot vidite, sem z...   \n",
       "3  Kot je po sestanku za N1 povedal koordinator c...   \n",
       "4  Obvezno samotestiranje na covid-19 učencev in ...   \n",
       "5  Prva ženska vrsta, 15. nosilka, je proti Belgi...   \n",
       "6  V svoji redni tedenski oceni ECDC ugotavlja, d...   \n",
       "7  V intervjuju za Pop Sugar je razkrila, da je b...   \n",
       "8  Covidno potrdilo bo obvezno predvsem za obisk ...   \n",
       "9   Predvidoma bo na intenzivnih oddelkih več kot...   \n",
       "\n",
       "                                            comments hour_published  \\\n",
       "0  [{'user': 'maIikan', 'date_hour': ['14.11.2021...          12:58   \n",
       "1  [{'user': 'one_', 'date_hour': ['13.11.2021', ...          14:04   \n",
       "2  [{'user': 'Kemik', 'date_hour': ['13.11.2021',...          11:56   \n",
       "3  [{'user': 'arhitektka', 'date_hour': ['13.11.2...          09:41   \n",
       "4  [{'user': 'maja kibira', 'date_hour': ['13.11....          06:20   \n",
       "5  [{'user': 'acrje', 'date_hour': ['13.11.2021',...          22:26   \n",
       "6  [{'user': 'Moots', 'date_hour': ['12.11.2021',...          18:22   \n",
       "7  [{'user': 'mrclaggart', 'date_hour': ['12.11.2...          13:11   \n",
       "8  [{'user': 'Burshopeli', 'date_hour': ['12.11.2...          11:59   \n",
       "9  [{'user': 'RESNICA1977', 'date_hour': ['12.11....          08:27   \n",
       "\n",
       "         day  word_number  comment_number  \n",
       "0 2021-11-14          962             178  \n",
       "1 2021-11-13          808              89  \n",
       "2 2021-11-13          868             112  \n",
       "3 2021-11-13          737             377  \n",
       "4 2021-11-13          466              29  \n",
       "5 2021-11-12          664               3  \n",
       "6 2021-11-12          301              65  \n",
       "7 2021-11-12          249               7  \n",
       "8 2021-11-12         2041             131  \n",
       "9 2021-11-12         1062             318  "
      ]
     },
     "execution_count": 6,
     "metadata": {},
     "output_type": "execute_result"
    }
   ],
   "source": [
    "df['day'] = pd.to_datetime(df['day_published'], format='%d.%m.%Y') #convert date format to more useful\n",
    "\n",
    "nm_words = [] #word count\n",
    "for d in df[\"content\"]:\n",
    "    ct = len(d.split(\" \"))\n",
    "    #print(ct)\n",
    "    nm_words.append(ct)\n",
    "    \n",
    "df[\"word_number\"] = nm_words\n",
    "\n",
    "nm_comments = []\n",
    "for d in df[\"comments\"]:\n",
    "    nm_comments.append(len(d))\n",
    "\n",
    "df[\"comment_number\"] = nm_comments\n",
    "\n",
    "df.head(10)\n",
    "\n",
    "\n"
   ]
  },
  {
   "cell_type": "markdown",
   "metadata": {},
   "source": [
    "### Visualization 1"
   ]
  },
  {
   "cell_type": "code",
   "execution_count": 146,
   "metadata": {},
   "outputs": [
    {
     "name": "stderr",
     "output_type": "stream",
     "text": [
      "C:\\Users\\zaloz\\AppData\\Local\\Temp/ipykernel_8204/1113844899.py:8: SettingWithCopyWarning: \n",
      "A value is trying to be set on a copy of a slice from a DataFrame.\n",
      "Try using .loc[row_indexer,col_indexer] = value instead\n",
      "\n",
      "See the caveats in the documentation: https://pandas.pydata.org/pandas-docs/stable/user_guide/indexing.html#returning-a-view-versus-a-copy\n",
      "  df2[\"day_name\"] = df['day'].dt.day_name()\n",
      "C:\\Users\\zaloz\\AppData\\Local\\Temp/ipykernel_8204/1113844899.py:14: SettingWithCopyWarning: \n",
      "A value is trying to be set on a copy of a slice from a DataFrame.\n",
      "Try using .loc[row_indexer,col_indexer] = value instead\n",
      "\n",
      "See the caveats in the documentation: https://pandas.pydata.org/pandas-docs/stable/user_guide/indexing.html#returning-a-view-versus-a-copy\n",
      "  df3['day_name'] = pd.Categorical(df3['day_name'], categories=\n"
     ]
    },
    {
     "data": {
      "image/png": "[encoded data removed]",
      "text/plain": [
       "<Figure size 720x360 with 1 Axes>"
      ]
     },
     "metadata": {
      "needs_background": "light"
     },
     "output_type": "display_data"
    },
    {
     "data": {
      "image/png": "[encoded data removed]",
      "text/plain": [
       "<Figure size 432x288 with 1 Axes>"
      ]
     },
     "metadata": {
      "needs_background": "light"
     },
     "output_type": "display_data"
    }
   ],
   "source": [
    "df1 = df[[\"day\", \"changed_later\"]]\n",
    "data1 = df1.sort_values('day').set_index('day')\n",
    "week_groups_resample = data1.resample('W').count()\n",
    "\n",
    "\n",
    "\n",
    "df2 = df[[\"day\"]]\n",
    "df2[\"day_name\"] = df['day'].dt.day_name()\n",
    "#df3 = df2.groupby(\"day_name\").count()\n",
    "#df3.plot(kind = \"barh\", legend=None)\n",
    "\n",
    "\n",
    "df3 = df2[[\"day_name\"]]\n",
    "df3['day_name'] = pd.Categorical(df3['day_name'], categories=\n",
    "    ['Monday','Tuesday','Wednesday','Thursday','Friday','Saturday', 'Sunday'],\n",
    "    ordered=True)\n",
    "\n",
    "counts = df3[\"day_name\"].value_counts()\n",
    "sorted_by_day_name = counts.sort_index()\n",
    "\n",
    "\n",
    "\n",
    "\n",
    "ax = week_groups_resample.plot(kind='bar',\n",
    "                               figsize=(10,5),legend=None)\n",
    "ax.set_xticklabels(week_groups_resample.index.strftime('%Y-%m-%d'), rotation=90)\n",
    "plt.xlabel('Date - Week Starting');\n",
    "plt.ylabel('Number of articles');\n",
    "plt.title(\"Number of articles per week\")\n",
    "plt.show()\n",
    "\n",
    "\n",
    "\n",
    "\n",
    "\n",
    "\n",
    "sorted_by_day_name.plot(kind='barh')\n",
    "plt.title('Number of articles per day name')\n",
    "plt.ylabel('')\n",
    "plt.xlabel('Number of articles')\n",
    "plt.show()\n",
    "\n"
   ]
  },
  {
   "cell_type": "markdown",
   "metadata": {},
   "source": [
    "### Visualization 2\n",
    "\n",
    "`TODO: name the visualization and describe it`"
   ]
  },
  {
   "cell_type": "code",
   "execution_count": 8,
   "metadata": {},
   "outputs": [
    {
     "data": {
      "text/plain": [
       "Novi koronavirus    503\n",
       "Slovenija            68\n",
       "Evropa               40\n",
       "Preberite tudi       31\n",
       "Ture avanture        28\n",
       "ENOSTAVNO            20\n",
       "S. in J. Amerika     16\n",
       "Gospodarstvo         16\n",
       "DOSTOPNO             13\n",
       "Svet                 12\n",
       "Name: section_tag, dtype: int64"
      ]
     },
     "execution_count": 8,
     "metadata": {},
     "output_type": "execute_result"
    }
   ],
   "source": [
    "df.groupby(\"section_tag\").count()\n",
    "\n",
    "\n",
    "bla = df['section_tag'].value_counts()\n",
    "a = df.section_tag.mode(10)\n",
    "bla.head(10)"
   ]
  },
  {
   "cell_type": "code",
   "execution_count": 58,
   "metadata": {
    "colab_type": "text",
    "id": "d1jQe5ELc14s"
   },
   "outputs": [
    {
     "data": {
      "text/html": [
       "<div>\n",
       "<style scoped>\n",
       "    .dataframe tbody tr th:only-of-type {\n",
       "        vertical-align: middle;\n",
       "    }\n",
       "\n",
       "    .dataframe tbody tr th {\n",
       "        vertical-align: top;\n",
       "    }\n",
       "\n",
       "    .dataframe thead th {\n",
       "        text-align: right;\n",
       "    }\n",
       "</style>\n",
       "<table border=\"1\" class=\"dataframe\">\n",
       "  <thead>\n",
       "    <tr style=\"text-align: right;\">\n",
       "      <th></th>\n",
       "      <th>author</th>\n",
       "      <th>day_published</th>\n",
       "      <th>changed_later</th>\n",
       "      <th>title</th>\n",
       "      <th>subtitle</th>\n",
       "      <th>tags</th>\n",
       "      <th>section_tag</th>\n",
       "      <th>content</th>\n",
       "      <th>comments</th>\n",
       "      <th>hour_published</th>\n",
       "      <th>day</th>\n",
       "      <th>word_number</th>\n",
       "      <th>comment_number</th>\n",
       "    </tr>\n",
       "  </thead>\n",
       "  <tbody>\n",
       "    <tr>\n",
       "      <th>0</th>\n",
       "      <td>[A. P. J.]</td>\n",
       "      <td>14.11.2021</td>\n",
       "      <td>YES</td>\n",
       "      <td>V Avstriji od ponedeljka zaprtje države samo z...</td>\n",
       "      <td>Evropa v primežu četrtega vala okužb</td>\n",
       "      <td>[Avstrija, Nemčija, covid-19, koronavirus]</td>\n",
       "      <td>Novi koronavirus</td>\n",
       "      <td>Dostop do javnih krajev bodo od ponedeljka tak...</td>\n",
       "      <td>[{'user': 'maIikan', 'date_hour': ['14.11.2021...</td>\n",
       "      <td>12:58</td>\n",
       "      <td>2021-11-14</td>\n",
       "      <td>962</td>\n",
       "      <td>178</td>\n",
       "    </tr>\n",
       "    <tr>\n",
       "      <th>1</th>\n",
       "      <td>[G. C.]</td>\n",
       "      <td>13.11.2021</td>\n",
       "      <td>YES</td>\n",
       "      <td>Ministrstvo za izobraževanje šolam posredovalo...</td>\n",
       "      <td>Učenci in dijaki, ki se ne bodo samotestirali,...</td>\n",
       "      <td>[samotestiranje, protokol, šole]</td>\n",
       "      <td>Novi koronavirus</td>\n",
       "      <td>Ministrstvo za izobraževanje, znanost in šport...</td>\n",
       "      <td>[{'user': 'one_', 'date_hour': ['13.11.2021', ...</td>\n",
       "      <td>14:04</td>\n",
       "      <td>2021-11-13</td>\n",
       "      <td>808</td>\n",
       "      <td>89</td>\n",
       "    </tr>\n",
       "    <tr>\n",
       "      <th>2</th>\n",
       "      <td>[A. P. J.]</td>\n",
       "      <td>13.11.2021</td>\n",
       "      <td>YES</td>\n",
       "      <td>Angela Merkel ob rekordno visoki incidenci poz...</td>\n",
       "      <td>Nizozemska znova delno omejuje javno življenje</td>\n",
       "      <td>[covid-19, koronavirus, Nemčija]</td>\n",
       "      <td>Novi koronavirus</td>\n",
       "      <td>\"Pred nami so naporni tedni, kot vidite, sem z...</td>\n",
       "      <td>[{'user': 'Kemik', 'date_hour': ['13.11.2021',...</td>\n",
       "      <td>11:56</td>\n",
       "      <td>2021-11-13</td>\n",
       "      <td>868</td>\n",
       "      <td>112</td>\n",
       "    </tr>\n",
       "  </tbody>\n",
       "</table>\n",
       "</div>"
      ],
      "text/plain": [
       "       author day_published changed_later  \\\n",
       "0  [A. P. J.]    14.11.2021           YES   \n",
       "1     [G. C.]    13.11.2021           YES   \n",
       "2  [A. P. J.]    13.11.2021           YES   \n",
       "\n",
       "                                               title  \\\n",
       "0  V Avstriji od ponedeljka zaprtje države samo z...   \n",
       "1  Ministrstvo za izobraževanje šolam posredovalo...   \n",
       "2  Angela Merkel ob rekordno visoki incidenci poz...   \n",
       "\n",
       "                                            subtitle  \\\n",
       "0               Evropa v primežu četrtega vala okužb   \n",
       "1  Učenci in dijaki, ki se ne bodo samotestirali,...   \n",
       "2     Nizozemska znova delno omejuje javno življenje   \n",
       "\n",
       "                                         tags       section_tag  \\\n",
       "0  [Avstrija, Nemčija, covid-19, koronavirus]  Novi koronavirus   \n",
       "1            [samotestiranje, protokol, šole]  Novi koronavirus   \n",
       "2            [covid-19, koronavirus, Nemčija]  Novi koronavirus   \n",
       "\n",
       "                                             content  \\\n",
       "0  Dostop do javnih krajev bodo od ponedeljka tak...   \n",
       "1  Ministrstvo za izobraževanje, znanost in šport...   \n",
       "2  \"Pred nami so naporni tedni, kot vidite, sem z...   \n",
       "\n",
       "                                            comments hour_published  \\\n",
       "0  [{'user': 'maIikan', 'date_hour': ['14.11.2021...          12:58   \n",
       "1  [{'user': 'one_', 'date_hour': ['13.11.2021', ...          14:04   \n",
       "2  [{'user': 'Kemik', 'date_hour': ['13.11.2021',...          11:56   \n",
       "\n",
       "         day  word_number  comment_number  \n",
       "0 2021-11-14          962             178  \n",
       "1 2021-11-13          808              89  \n",
       "2 2021-11-13          868             112  "
      ]
     },
     "execution_count": 58,
     "metadata": {},
     "output_type": "execute_result"
    },
    {
     "data": {
      "image/png": "[encoded data removed]",
      "text/plain": [
       "<Figure size 432x288 with 1 Axes>"
      ]
     },
     "metadata": {
      "needs_background": "light"
     },
     "output_type": "display_data"
    }
   ],
   "source": [
    "\n",
    "num_comments = df[\"comment_number\"] \n",
    "len_text = df[\"word_number\"]\n",
    "d_f= df[df[\"comment_number\"] > 20]\n",
    "d_f.plot.scatter('word_number', \"comment_number\")\n",
    "d_f.head(3)"
   ]
  },
  {
   "cell_type": "code",
   "execution_count": null,
   "metadata": {
    "colab": {},
    "colab_type": "code",
    "id": "8GvtoWSDc14v"
   },
   "outputs": [],
   "source": []
  },
  {
   "cell_type": "markdown",
   "metadata": {
    "colab_type": "text",
    "id": "po4uso66c14x"
   },
   "source": [
    "### Visualization 3\n",
    "\n",
    "`TODO: name the visualization and describe it`"
   ]
  },
  {
   "cell_type": "code",
   "execution_count": 10,
   "metadata": {
    "colab": {},
    "colab_type": "code",
    "id": "9xKMH6rjc14y"
   },
   "outputs": [],
   "source": [
    "bla = df.groupby(\"changed_later\")\n",
    "\n",
    "y_n = df[\"changed_later\"].value_counts()       \n",
    "y_n_section = bla[\"section_tag\"].value_counts()       \n",
    "\n",
    "\n",
    "blabla = df.groupby(\"section_tag\")\n",
    "section_y_n = blabla[\"changed_later\"].value_counts()\n",
    "\n",
    "df[\"section_tag\"].value_counts()\n",
    "y_n_section\n",
    "d = section_y_n.to_dict()\n",
    "l = y_n_section.to_dict()\n",
    "\n",
    "\n"
   ]
  },
  {
   "cell_type": "code",
   "execution_count": 59,
   "metadata": {},
   "outputs": [
    {
     "data": {
      "text/plain": [
       "{'user': 'maIikan',\n",
       " 'date_hour': ['14.11.2021', '13:28'],\n",
       " 'grade': 4,\n",
       " 'reply': 'NO',\n",
       " 'comment': 'Še ena država, ki je zapadla v masovno histerijo in paranojo, ki ničesar ne bo rešila. Cepljenje mladih ne igra vloge. Hkrati pa cepljeni naokoli prenašajo virus. Avstrija bo žal napako spoznala prepozno.'}"
      ]
     },
     "execution_count": 59,
     "metadata": {},
     "output_type": "execute_result"
    }
   ],
   "source": [
    "#data for visualization 4 and 5\n",
    "article_lengths = []\n",
    "comm_date = []\n",
    "comm_time = [] #only full hours\n",
    "comm_lengths = []\n",
    "good_comm = []\n",
    "not_replies = []\n",
    "for article in data:\n",
    "    article_lengths.append(len(article[\"content\"].split(\" \")))\n",
    "    \n",
    "    for comm in article[\"comments\"]:\n",
    "        date, time = comm[\"date_hour\"]\n",
    "        comm_date.append(date)\n",
    "        comm_time.append(time)\n",
    "        length = len(comm[\"comment\"].split(\" \"))\n",
    "        comm_lengths.append(length)\n",
    "        if int(comm[\"grade\"]) > 20:\n",
    "            good_comm.append(length)"
   ]
  },
  {
   "cell_type": "markdown",
   "metadata": {
    "colab_type": "text",
    "id": "Ibr8rBN_c14z"
   },
   "source": [
    "### Visualization 4\n",
    "\n",
    "`TODO: name the visualization and describe it`"
   ]
  },
  {
   "cell_type": "code",
   "execution_count": 62,
   "metadata": {
    "colab": {},
    "colab_type": "code",
    "id": "TIa6vaMOc140"
   },
   "outputs": [
    {
     "data": {
      "image/png": "[encoded data removed]",
      "text/plain": [
       "<Figure size 432x288 with 1 Axes>"
      ]
     },
     "metadata": {
      "needs_background": "light"
     },
     "output_type": "display_data"
    },
    {
     "data": {
      "image/png": "[encoded data removed]",
      "text/plain": [
       "<Figure size 432x288 with 1 Axes>"
      ]
     },
     "metadata": {
      "needs_background": "light"
     },
     "output_type": "display_data"
    }
   ],
   "source": [
    "# Visualization 4 code\n",
    "\n",
    "#distribution of data and text llength instead of scatter plot\n",
    "\n",
    "        \n",
    "        \n",
    "\n",
    "plt.figure()\n",
    "comm_mean = np.mean(comm_lengths)\n",
    "plt.hist(comm_lengths, bins = 50, range=(1,500), density=False, label=\"All comments\")\n",
    "comm_std = np.std(comm_lengths)\n",
    "X = np.linspace(0,500, 1000)\n",
    "#plt.plot(X, stats.norm.pdf(X, comm_mean, comm_std), label = \"Normal distribution\")\n",
    "plt.axvline(x=comm_mean, color=\"green\", label= \"mean\")\n",
    "#plt.axvline(x=np.mean(good_comm), color=\"green\", label= \"mean\")\n",
    "plt.hist(good_comm, bins=50, density=False, color=\"red\",  range=(1,500), label=\"Comments ranked over 50\")\n",
    "plt.title(\"Distribution of comments lengths\")\n",
    "plt.legend()\n",
    "plt.show()\n",
    "\n",
    "\n",
    "art_std = np.std(article_lengths)\n",
    "art_mean = np.mean(article_lengths)\n",
    "\n",
    "plt.figure()\n",
    "X = np.linspace(1,5000,1000)\n",
    "plt.plot(X, stats.norm.pdf(X, art_mean, art_std), label = \"Normal distribution\", color=\"orange\")\n",
    "plt.axvline(x=art_mean, color=\"green\", label= \"mean\")\n",
    "plt.hist(article_lengths, bins=50, density=True, )\n",
    "\n",
    "plt.legend()\n",
    "plt.title(\"Distribution of article lengths compared to normal distribution\")\n",
    "plt.show()\n",
    "\n",
    "\n",
    "\n"
   ]
  },
  {
   "cell_type": "markdown",
   "metadata": {
    "colab_type": "text",
    "id": "riFWfhi8c142"
   },
   "source": [
    "### Visualization 5\n",
    "\n",
    "`TODO: name the visualization and describe it`"
   ]
  },
  {
   "cell_type": "code",
   "execution_count": null,
   "metadata": {},
   "outputs": [],
   "source": [
    "#comments per hour between week and between weekends"
   ]
  },
  {
   "cell_type": "code",
   "execution_count": 145,
   "metadata": {
    "colab": {},
    "colab_type": "code",
    "id": "4Vv3yRILc15B"
   },
   "outputs": [
    {
     "data": {
      "image/png": "[encoded data removed]",
      "text/plain": [
       "<Figure size 432x288 with 1 Axes>"
      ]
     },
     "metadata": {
      "needs_background": "light"
     },
     "output_type": "display_data"
    }
   ],
   "source": [
    "plot_5 = pd.DataFrame(list(zip(comm_date, comm_time)),\n",
    "               columns =['day', 'hour'])\n",
    "\n",
    "plot_5[\"hour\"] = plot_5['hour'].apply(lambda x: x[:2])\n",
    "plot_5['day'] = pd.to_datetime(plot_5['day'], format='%d.%m.%Y')\n",
    "plot_5_f= plot_5[['hour']]  \n",
    "plot_5_f['day_name'] = plot_5['day'].dt.day_name()\n",
    "plot_5_f['day_name'] = pd.Categorical(plot_5_f['day_name'], categories=\n",
    "    ['Monday','Tuesday','Wednesday','Thursday','Friday','Saturday', 'Sunday'],\n",
    "   ordered=True)\n",
    "\n",
    "plot_5_f.set_index('day_name')\n",
    "plot_data = plot_5_f.groupby([\"day_name\", \"hour\"]).size()\n",
    "\n",
    "\n",
    "fig, ax = plt.subplots()\n",
    "\n",
    "plot_data.plot(kind=\"bar\", title=(\"Numbers of comments per hour per week day\"))\n",
    "\n",
    "every_nth = 12\n",
    "for n, label in enumerate(ax.xaxis.get_ticklabels()):\n",
    "    if n % every_nth != 0:\n",
    "        label.set_visible(False)\n",
    "plt.xlabel(\"\")\n",
    "plt.ylabel(\"Number of comments\")\n",
    "plt.show()\n",
    "\n",
    "\n"
   ]
  },
  {
   "cell_type": "code",
   "execution_count": null,
   "metadata": {},
   "outputs": [],
   "source": []
  }
 ],
 "metadata": {
  "colab": {
   "name": "Web_Scraping.ipynb",
   "provenance": []
  },
  "kernelspec": {
   "display_name": "upv-project_1",
   "language": "python",
   "name": "upv-project_1"
  },
  "language_info": {
   "codemirror_mode": {
    "name": "ipython",
    "version": 3
   },
   "file_extension": ".py",
   "mimetype": "text/x-python",
   "name": "python",
   "nbconvert_exporter": "python",
   "pygments_lexer": "ipython3",
   "version": "3.9.7"
  }
 },
 "nbformat": 4,
 "nbformat_minor": 4
}
